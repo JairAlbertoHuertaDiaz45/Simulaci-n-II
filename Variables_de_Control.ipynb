{
  "nbformat": 4,
  "nbformat_minor": 0,
  "metadata": {
    "colab": {
      "provenance": [],
      "authorship_tag": "ABX9TyOcajSTy7jTGgjwRlfYz4Pw",
      "include_colab_link": true
    },
    "kernelspec": {
      "name": "python3",
      "display_name": "Python 3"
    },
    "language_info": {
      "name": "python"
    }
  },
  "cells": [
    {
      "cell_type": "markdown",
      "metadata": {
        "id": "view-in-github",
        "colab_type": "text"
      },
      "source": [
        "<a href=\"https://colab.research.google.com/github/JairAlbertoHuertaDiaz45/Simulaci-n-II/blob/main/Variables_de_Control.ipynb\" target=\"_parent\"><img src=\"https://colab.research.google.com/assets/colab-badge.svg\" alt=\"Open In Colab\"/></a>"
      ]
    },
    {
      "cell_type": "markdown",
      "source": [
        "**Huerta Díaz Jair Alberto**\n",
        "\n",
        "Reducción de la Varianza\n",
        "\n",
        "Variables de control"
      ],
      "metadata": {
        "id": "3tt-Cw6ODitD"
      }
    },
    {
      "cell_type": "code",
      "source": [
        "import numpy as np\n",
        "import matplotlib.pyplot as plt\n",
        "import time\n",
        "from typing import Tuple, Optional"
      ],
      "metadata": {
        "id": "DDvzjTInFhtx"
      },
      "execution_count": 20,
      "outputs": []
    },
    {
      "cell_type": "code",
      "source": [
        "def g(x: np.ndarray) -> np.ndarray:\n",
        "    return 1.0 / (1.0 + x**2)"
      ],
      "metadata": {
        "id": "HAHaHznjFjsR"
      },
      "execution_count": 21,
      "outputs": []
    },
    {
      "cell_type": "code",
      "source": [
        "def theoretical_cov_gU() -> float:\n",
        "    return 0.5 * np.log(2.0) - np.pi / 8.0"
      ],
      "metadata": {
        "id": "RbdrabVBFlWZ"
      },
      "execution_count": 22,
      "outputs": []
    },
    {
      "cell_type": "code",
      "source": [
        "def mc_crudo_vectorizado(\n",
        "    N: int,\n",
        "    n: int,\n",
        "    func=g,\n",
        "    a: float = 0.0,\n",
        "    b: float = 1.0,\n",
        "    seed: Optional[int] = None,\n",
        ") -> Tuple[float, float, float, np.ndarray]:\n",
        "    # N: puntos por réplica, n: réplicas independientes\n",
        "    # devuelve: (media_estimator, var_muestral, tiempo_promedio_por_replica, array_de_thetas)\n",
        "\n",
        "    # generador reproducible\n",
        "    rng = np.random.default_rng(seed)\n",
        "\n",
        "    # medir tiempo\n",
        "    t0 = time.perf_counter()\n",
        "\n",
        "    # U tiene forma (n, N)\n",
        "    U = rng.random((n, N))\n",
        "\n",
        "    # evaluamos la función y promediamos por fila\n",
        "    Xs = func(a + U * (b - a)).mean(axis=1) * (b - a)\n",
        "\n",
        "    t1 = time.perf_counter()\n",
        "\n",
        "    mean_theta = float(Xs.mean())\n",
        "    var_theta = float(Xs.var(ddof=1)) if n > 1 else 0.0\n",
        "    tiempo_promedio = (t1 - t0) / n\n",
        "\n",
        "    return mean_theta, var_theta, tiempo_promedio, Xs"
      ],
      "metadata": {
        "id": "IMEN8bwkFpwB"
      },
      "execution_count": 23,
      "outputs": []
    },
    {
      "cell_type": "code",
      "source": [
        "# -------------- MC con variable de control vectorizado --------------\n",
        "def mc_control_variate_vectorizado(\n",
        "    N: int,\n",
        "    n: int,\n",
        "    func=g,\n",
        "    a: float = 0.0,\n",
        "    b: float = 1.0,\n",
        "    seed: Optional[int] = None,\n",
        "    use_theoretical_c: bool = True,\n",
        ") -> Tuple[dict, np.ndarray, np.ndarray, np.ndarray]:\n",
        "    # Calcula Xs (estimadores crudos), Ys (media de U) y Zs (estimadores ajustados)\n",
        "\n",
        "    rng = np.random.default_rng(seed)\n",
        "    t0 = time.perf_counter()\n",
        "\n",
        "    # generamos todas las muestras de una vez (n x N)\n",
        "    U = rng.random((n, N))\n",
        "\n",
        "    # Xs: estimador crudo por réplica; Ys: media de U por réplica\n",
        "    Xs = func(a + U * (b - a)).mean(axis=1) * (b - a)\n",
        "    Ys = U.mean(axis=1)\n",
        "\n",
        "    t1 = time.perf_counter()\n",
        "\n",
        "    # obtenemos la constante c* (teórica) o la estimamos por muestra\n",
        "    if use_theoretical_c:\n",
        "        cov_gU = theoretical_cov_gU()\n",
        "        # Var(U) = 1/12 => c* = -Cov/Var = -12 * Cov\n",
        "        c_star = -12.0 * cov_gU\n",
        "    else:\n",
        "        # estimador por muestra: c_hat = -Cov(X,Y)/Var(Y)\n",
        "        cov_hat = np.cov(Xs, Ys, ddof=1)[0, 1]\n",
        "        var_Y_hat = Ys.var(ddof=1)\n",
        "        c_star = -cov_hat / var_Y_hat\n",
        "\n",
        "    # estimador ajustado Z\n",
        "    Zs = Xs + c_star * (Ys - 0.5)\n",
        "\n",
        "    stats = {\n",
        "        'mean_X': float(Xs.mean()),\n",
        "        'var_X': float(Xs.var(ddof=1)) if n > 1 else 0.0,\n",
        "        'se_mean_X': float(np.std(Xs, ddof=1) / np.sqrt(n)) if n > 1 else 0.0,\n",
        "        'mean_Z': float(Zs.mean()),\n",
        "        'var_Z': float(Zs.var(ddof=1)) if n > 1 else 0.0,\n",
        "        'se_mean_Z': float(np.std(Zs, ddof=1) / np.sqrt(n)) if n > 1 else 0.0,\n",
        "        'c_star': float(c_star),\n",
        "        'tiempo_promedio_por_replica': (t1 - t0) / n,\n",
        "    }\n",
        "\n",
        "    return stats, Xs, Ys, Zs"
      ],
      "metadata": {
        "id": "RlXj6H4fGG4h"
      },
      "execution_count": 24,
      "outputs": []
    },
    {
      "cell_type": "code",
      "source": [
        "def print_report_and_plot(N=1000, n=200, seed=123, use_theoretical_c=True, bins=30):\n",
        "    mean_X, var_X, t_X, Xs = mc_crudo_vectorizado(N, n, seed=seed)\n",
        "    stats, Xs2, Ys, Zs = mc_control_variate_vectorizado(N, n, seed=seed, use_theoretical_c=use_theoretical_c)\n",
        "\n",
        "    # valor verdadero de la integral de g en [0,1] = arctan(1)-arctan(0) = pi/4\n",
        "    true_value = np.arctan(1.0) - np.arctan(0.0)\n",
        "\n",
        "    print(f'Resultados (N={N}, n={n}, seed={seed})')\n",
        "    print('-----------------------------------------------')\n",
        "    print(f'Valor verdadero (integral) = {true_value:.8f} (pi/4)')\n",
        "    print(f\"MC crudo:     media = {mean_X:.8f}, var (muestral) = {var_X:.8e}, tiempo/replica = {t_X:.6e}s\")\n",
        "    print(f\"MC control:   media = {stats['mean_Z']:.8f}, var (muestral) = {stats['var_Z']:.8e}, tiempo/replica = {stats['tiempo_promedio_por_replica']:.6e}s\")\n",
        "\n",
        "    # Reducción de Varianza\n",
        "    red = 100.0 * (var_X - stats['var_Z']) / var_X if var_X > 0 else 0.0\n",
        "    print(f'Reducción relativa de varianza: {red:.2f}%')\n",
        "    print(f\"Constante usada c* = {stats['c_star']:.6f} (teórica? {use_theoretical_c})\")\n",
        "\n",
        "    # histograma comparativo (mismas bins para ambas distribuciones)\n",
        "    bins_edge = np.histogram_bin_edges(np.concatenate([Xs, Zs]), bins=bins)\n",
        "    fig, axs = plt.subplots(1, 2, figsize=(12, 4), sharey=True)\n",
        "\n",
        "    axs[0].hist(Xs, bins=bins_edge, density=True, alpha=0.6)\n",
        "    axs[0].axvline(Xs.mean(), linestyle='--')\n",
        "    axs[0].axvline(true_value, color='k', linewidth=1, label='valor real')\n",
        "    axs[0].set_title('MC crudo')\n",
        "    axs[0].legend()\n",
        "\n",
        "    axs[1].hist(Zs, bins=bins_edge, density=True, alpha=0.6)\n",
        "    axs[1].axvline(Zs.mean(), linestyle='--')\n",
        "    axs[1].axvline(true_value, color='k', linewidth=1, label='valor real')\n",
        "    axs[1].set_title('Con variable de control')\n",
        "    axs[1].legend()\n",
        "\n",
        "    plt.suptitle('Comparación: MC crudo vs variable de control')\n",
        "    plt.tight_layout()\n",
        "    plt.show()"
      ],
      "metadata": {
        "id": "vBSjLjq_GO8R"
      },
      "execution_count": 25,
      "outputs": []
    },
    {
      "cell_type": "code",
      "source": [
        "if __name__ == '__main__':\n",
        "    # parámetros por defecto (cámbialos para experimentar)\n",
        "    N = 1000\n",
        "    n = 200\n",
        "    seed = 42\n",
        "\n",
        "    print('--- Ejecutando demo rápida ---')\n",
        "    print_report_and_plot(N=N, n=n, seed=seed, use_theoretical_c=True, bins=30)\n"
      ],
      "metadata": {
        "colab": {
          "base_uri": "https://localhost:8080/",
          "height": 561
        },
        "id": "5FJOWP0DGTnB",
        "outputId": "a96895fd-a9d9-414b-d30a-c581679d3dbd"
      },
      "execution_count": 26,
      "outputs": [
        {
          "output_type": "stream",
          "name": "stdout",
          "text": [
            "--- Ejecutando demo rápida ---\n",
            "Resultados (N=1000, n=200, seed=42)\n",
            "-----------------------------------------------\n",
            "Valor verdadero (integral) = 0.78539816 (pi/4)\n",
            "MC crudo:     media = 0.78542683, var (muestral) = 2.44457258e-05, tiempo/replica = 3.594850e-05s\n",
            "MC control:   media = 0.78541569, var (muestral) = 3.12339368e-07, tiempo/replica = 3.285414e-05s\n",
            "Reducción relativa de varianza: 98.72%\n",
            "Constante usada c* = 0.553506 (teórica? True)\n"
          ]
        },
        {
          "output_type": "display_data",
          "data": {
            "text/plain": [
              "<Figure size 1200x400 with 2 Axes>"
            ],
            "image/png": "[encoded data removed]"
          },
          "metadata": {}
        }
      ]
    }
  ]
}