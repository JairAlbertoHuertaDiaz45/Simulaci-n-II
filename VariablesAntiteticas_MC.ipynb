{
  "nbformat": 4,
  "nbformat_minor": 0,
  "metadata": {
    "colab": {
      "provenance": [],
      "authorship_tag": "ABX9TyMcpOU6XvCw+WPoye04eN7h",
      "include_colab_link": true
    },
    "kernelspec": {
      "name": "python3",
      "display_name": "Python 3"
    },
    "language_info": {
      "name": "python"
    }
  },
  "cells": [
    {
      "cell_type": "markdown",
      "metadata": {
        "id": "view-in-github",
        "colab_type": "text"
      },
      "source": [
        "<a href=\"https://colab.research.google.com/github/JairAlbertoHuertaDiaz45/Simulaci-n-II/blob/main/VariablesAntiteticas_MC.ipynb\" target=\"_parent\"><img src=\"https://colab.research.google.com/assets/colab-badge.svg\" alt=\"Open In Colab\"/></a>"
      ]
    },
    {
      "cell_type": "markdown",
      "source": [
        "**Huerta Díaz Jair Alberto**\n",
        "\n",
        "Método de comparación Monte Carlo Acierto y Error y Crudo\n",
        "\n"
      ],
      "metadata": {
        "id": "Wki6KUaOTe9v"
      }
    },
    {
      "cell_type": "code",
      "execution_count": 15,
      "metadata": {
        "id": "V6JlEigqwBcc"
      },
      "outputs": [],
      "source": [
        "import numpy as np\n",
        "import time\n",
        "import math\n",
        "import random as rd\n",
        "def g(x):\n",
        "  return np.sqrt(np.arctan(x))"
      ]
    },
    {
      "cell_type": "code",
      "source": [
        "def estimacion(N):\n",
        "  aciertos=0\n",
        "  for i in range(N):  #se generan pares de números aleatorios\n",
        "    x = rd.random()\n",
        "    y = rd.random()\n",
        "    if y <= g(x):  #ve cuales puntos quedaron debajo de la curva de la función\n",
        "      aciertos += 1 #los aciertos se van acumulando\n",
        "  I=aciertos/N  #Fórmula del estimador p^ = N_a / N\n",
        "  return I"
      ],
      "metadata": {
        "id": "wqSK9NcOyCxj"
      },
      "execution_count": 16,
      "outputs": []
    },
    {
      "cell_type": "markdown",
      "source": [
        "**Monte Carlo acierto y error**"
      ],
      "metadata": {
        "id": "gtYdqvLbyPec"
      }
    },
    {
      "cell_type": "code",
      "source": [
        "def mc_acierto(N,n):  #n es el numero de estimaciones\n",
        "  start_time = time.perf_counter()  #empieza el contador para el tiempo en el que se tarda\n",
        "  lista=[]\n",
        "  for i in range(N):\n",
        "    E=estimacion(n)\n",
        "    lista.append(E)\n",
        "  end_time = time.perf_counter()\n",
        "  execution_time = end_time - start_time\n",
        "  return np.mean(lista), np.var(lista), execution_time\n",
        "\n",
        "\n",
        "estimacion(1000)"
      ],
      "metadata": {
        "colab": {
          "base_uri": "https://localhost:8080/"
        },
        "id": "DueGpHpVyHc9",
        "outputId": "cafda78e-10e7-4c08-bed1-6b5f598d98b2"
      },
      "execution_count": 17,
      "outputs": [
        {
          "output_type": "execute_result",
          "data": {
            "text/plain": [
              "0.639"
            ]
          },
          "metadata": {},
          "execution_count": 17
        }
      ]
    },
    {
      "cell_type": "markdown",
      "source": [
        "**Método de Monte Carlo Crudo**"
      ],
      "metadata": {
        "id": "bn73obMyU64d"
      }
    },
    {
      "cell_type": "markdown",
      "source": [
        "Calculando el promedio, varianza y el tiempo promedio (datos que se ocuparán más adelante)\n"
      ],
      "metadata": {
        "id": "_yLKkfPGVKB0"
      }
    },
    {
      "cell_type": "code",
      "source": [
        "def mc_crudo(N,n):\n",
        "  start_time = time.perf_counter()\n",
        "  resultados_c=[] #se guardan las estimaciones\n",
        "  for i in range(n): #n numero de estimaciones, comienza a hacer el bucle\n",
        "    lista_c=[]\n",
        "    for j in range(N):  #N es el tamaño de la muestra\n",
        "      u=rd.random()\n",
        "      lista_c.append(g(u))\n",
        "    resultados_c.append(lista_c)\n",
        "  end_time = time.perf_counter()\n",
        "  execution_time = end_time - start_time\n",
        "  return np.mean(lista_c), np.var(lista_c), execution_time\n",
        "\n",
        "mean1, var1, t1 = mc_acierto(1000,100)\n",
        "mean2, var2, t2 = mc_crudo(1000,100)\n",
        "E = (t2 * var2) / (t1 * var1)"
      ],
      "metadata": {
        "id": "Gg_TXAdxwLu2"
      },
      "execution_count": 18,
      "outputs": []
    },
    {
      "cell_type": "markdown",
      "source": [
        "$$\n",
        "E = \\frac{t_{\\text{crudo}} \\cdot \\mathrm{Var}(\\theta_{\\text{crudo}})}{t_{\\text{ae}} \\cdot \\mathrm{Var}(\\theta_{\\text{ae}})}\n",
        "$$"
      ],
      "metadata": {
        "id": "LlKiPbOlywwI"
      }
    },
    {
      "cell_type": "code",
      "source": [
        "print(\"Método Acierto y Error:  media:\", mean1, \" varianza:\", var1, \" tiempo:\", t1)\n",
        "print(\"Método Crudo:            media:\", mean2, \" varianza:\", var2, \" tiempo:\", t2)\n",
        "print(\"Eficiencia (E):\", E)"
      ],
      "metadata": {
        "colab": {
          "base_uri": "https://localhost:8080/"
        },
        "id": "nkhkzf00ylUQ",
        "outputId": "e9a5416b-381e-471b-b705-dd83406821ab"
      },
      "execution_count": 19,
      "outputs": [
        {
          "output_type": "stream",
          "name": "stdout",
          "text": [
            "Método Acierto y Error:  media: 0.6324099999999999  varianza: 0.0024188919000000006  tiempo: 0.31887333499997794\n",
            "Método Crudo:            media: 0.6316417945745754  varianza: 0.04313068606900262  tiempo: 0.2091265079999971\n",
            "Eficiencia (E): 11.693938026089683\n"
          ]
        }
      ]
    },
    {
      "cell_type": "markdown",
      "source": [
        "**PARTE II: REDUCCIÓN DE LA VARIANZA**\n",
        "\n",
        "**Reducción de la varianza Método de Monte Carlo**\n",
        "\n",
        "Vamos a hacer la reducción con el método de variables antipéticas, usando el teorema\n",
        "\n",
        "$$\n",
        "\\text{Var}\\!\\left(\\frac{X_1 + X_2}{2}\\right)\n",
        "= \\frac{1}{4} \\Big[ \\text{Var}(X_1) + \\text{Var}(X_2) + 2\\,\\text{Cov}(X_1, X_2) \\Big]\n",
        "$$"
      ],
      "metadata": {
        "id": "PmR15VGGvjYn"
      }
    },
    {
      "cell_type": "markdown",
      "source": [
        "**Método de Monte Carlo Crudo**\n",
        "\n",
        "Para este método en lugar de utilizar muestras de tamaño $u$, se usarán $1-u$"
      ],
      "metadata": {
        "id": "Bgsezr6BwUJe"
      }
    },
    {
      "cell_type": "code",
      "source": [
        "def mc_crudo_g_1u(N, n):\n",
        "  start_time=time.perf_counter()\n",
        "  resultados_c=[]\n",
        "  for i in range(n): # se generan N muestras evaluando en (1-u) en lugar de u\n",
        "    lista_c=[]\n",
        "    for j in range(N):\n",
        "      u=rd.random()\n",
        "      lista_c.append(g(1-u))\n",
        "    resultados_c.append(lista_c)\n",
        "  end_time=time.perf_counter()\n",
        "  execution_time=end_time-start_time\n",
        "  return np.mean(lista_c), np.var(lista_c), execution_time"
      ],
      "metadata": {
        "id": "k_0KJgBhwjIo"
      },
      "execution_count": 20,
      "outputs": []
    },
    {
      "cell_type": "markdown",
      "source": [
        "Calculamos el promedio es decir, la reduccion de la varianza utilizando el teorema.\n",
        "\n",
        "$\n",
        "\\text{Var}\\!\\left(\\frac{f(u) + f(1-u)}{2}\\right) < \\text{Var}(f(u))\n",
        "$"
      ],
      "metadata": {
        "id": "VnhDMs76xEYr"
      }
    },
    {
      "cell_type": "code",
      "source": [
        "def mc_crudo_reduccion_var(N,n):\n",
        "  start_time=time.perf_counter()\n",
        "  resultados_c=[]\n",
        "  for i in range(n):\n",
        "    lista_c=[]\n",
        "    for j in range(N):\n",
        "      u=rd.random()\n",
        "      lista_c.append((g(u) + g(1-u))/2.0) #promedio g(u) y g(1-u)\n",
        "    resultados_c.append(lista_c)\n",
        "  end_time=time.perf_counter()\n",
        "  execution_time=end_time-start_time\n",
        "  return np.mean(lista_c), np.var(lista_c), execution_time"
      ],
      "metadata": {
        "id": "XpEEm5CFxYt9"
      },
      "execution_count": 21,
      "outputs": []
    },
    {
      "cell_type": "code",
      "source": [
        "mean_c, var_c, t_c = mc_crudo(1000, 30)\n",
        "mean_as, var_as, t_as = mc_crudo_g_1u(1000, 30)\n",
        "mean_ac, var_ac, t_ac = mc_crudo_reduccion_var(1000, 30)\n",
        "print(\"Monte Carlo crudo con u:               media =\", mean_c, \" varianza =\", var_c, \" tiempo =\", t_c)\n",
        "print(\"Monte Carlo crudo con 1-u:             media =\", mean_as, \" varianza =\", var_as, \" tiempo =\", t_as)\n",
        "print(\"Monte Carlo crudo con la red de var:   media =\", mean_ac, \" varianza =\", var_ac, \" tiempo =\", t_ac)"
      ],
      "metadata": {
        "colab": {
          "base_uri": "https://localhost:8080/"
        },
        "id": "hPOu6H2txjMf",
        "outputId": "fc54bd01-9a41-446a-fe4c-c401ca30ed74"
      },
      "execution_count": 23,
      "outputs": [
        {
          "output_type": "stream",
          "name": "stdout",
          "text": [
            "Monte Carlo crudo con u:               media = 0.6331774412641235  varianza = 0.040779455825911144  tiempo = 0.0641894619999448\n",
            "Monte Carlo crudo con 1-u:             media = 0.6304172298806665  varianza = 0.04341234931983286  tiempo = 0.061598802999924374\n",
            "Monte Carlo crudo con la red de var:   media = 0.6293906001712107  varianza = 0.002768582708662282  tiempo = 0.14071783199995025\n"
          ]
        }
      ]
    },
    {
      "cell_type": "markdown",
      "source": [
        "Calculamos la reducción\n",
        "\n",
        "$\n",
        "\\text{Reduccion}=\\!\\left(\\frac{Varianza Original - Varianza Nueva)}{Varianza Original}\\right) * 100\n",
        "$"
      ],
      "metadata": {
        "id": "DacjxEiUzDdG"
      }
    },
    {
      "cell_type": "code",
      "source": [
        "reduccion=((var_c-var_ac)/var_c)*100\n",
        "reduccion"
      ],
      "metadata": {
        "colab": {
          "base_uri": "https://localhost:8080/"
        },
        "id": "SU3oEsnszFUG",
        "outputId": "62e44d1d-8d43-4470-96c1-693f0f80b4bf"
      },
      "execution_count": 24,
      "outputs": [
        {
          "output_type": "execute_result",
          "data": {
            "text/plain": [
              "np.float64(93.21083949604072)"
            ]
          },
          "metadata": {},
          "execution_count": 24
        }
      ]
    },
    {
      "cell_type": "markdown",
      "source": [
        "**Reducción de la Varianza para el Método de Acierto y Error**"
      ],
      "metadata": {
        "id": "NGLinmwMzpA9"
      }
    },
    {
      "cell_type": "markdown",
      "source": [
        "Utilizando variables antitéticas con pares, es decir $(u, v)$ y $(1-u, 1-v)$  \n",
        "\n",
        "Esto funciona porque los dos indicadores están negativamente correlacionados:\n",
        "\n",
        "$$\n",
        "\\text{Var}(\\hat{I}) = \\frac{\\text{Var}(\\tilde{Z})}{N/2}\n",
        "= \\frac{1}{N/2} \\cdot \\frac{1}{4} \\Big[ 2\\text{Var}(Z) + 2\\text{Cov}(Z_1, Z_2) \\Big]\n",
        "$$\n",
        "\n",
        "Si $\\text{Cov}(Z_1, Z_2) < 0$, entonces:\n",
        "\n",
        "$$\n",
        "\\text{Var}(\\tilde{I}) < \\text{Var}(\\hat{I})\n",
        "$$\n",
        "\n",
        "donde\n",
        "\n",
        "$$\n",
        "\\tilde{I} = \\frac{1}{N/2} \\sum_{k=1}^{N/2} \\tilde{Z}_k,\n",
        "\\quad \\hat{I} = \\frac{1}{N} \\sum_{i=1}^{N} Z_i,\n",
        "\\quad \\tilde{Z} = \\frac{Z_1 + Z_2}{2}\n",
        "$$"
      ],
      "metadata": {
        "id": "KeA0bKbzzo_M"
      }
    },
    {
      "cell_type": "code",
      "source": [
        "def mc_acierto_reduccion_var(N, n): #n numero de estimaciones\n",
        "    start_time=time.perf_counter()\n",
        "    resultados=[]\n",
        "    for i in range(n):  # n\n",
        "        aciertos=0\n",
        "        for j in range(N // 2):  # usamos N/2 porque son pares\n",
        "            u1, v1 = rd.random(), rd.random()\n",
        "            u2, v2 = 1 - u1, 1 - v1\n",
        "            aciertos += int(v1 <= g(u1))  #incrementa aciertos\n",
        "            aciertos += int(v2 <= g(u2))\n",
        "        I = aciertos / N\n",
        "        resultados.append(I)\n",
        "    end_time = time.perf_counter()\n",
        "    execution_time = (end_time - start_time) / n\n",
        "    return np.mean(resultados), np.var(resultados), execution_time"
      ],
      "metadata": {
        "id": "XPGPUFcA0BH0"
      },
      "execution_count": 25,
      "outputs": []
    },
    {
      "cell_type": "code",
      "source": [
        "mean, var, t = mc_acierto_reduccion_var(1000, 30)"
      ],
      "metadata": {
        "id": "dvR66zLI0Ftl"
      },
      "execution_count": 26,
      "outputs": []
    },
    {
      "cell_type": "code",
      "source": [
        "print(\"Método Acierto y Error:                  media:\", mean1, \" varianza:\", var1, \" tiempo:\", t1)\n",
        "print(\"Método acierto y error con red de var:   media =\", mean, \" varianza =\", var, \" tiempo =\", t)"
      ],
      "metadata": {
        "colab": {
          "base_uri": "https://localhost:8080/"
        },
        "id": "c5WtQmwj0Htb",
        "outputId": "db05b871-9a5b-4792-b7d5-bd5ba5a36476"
      },
      "execution_count": 27,
      "outputs": [
        {
          "output_type": "stream",
          "name": "stdout",
          "text": [
            "Método Acierto y Error:                  media: 0.6324099999999999  varianza: 0.0024188919000000006  tiempo: 0.31887333499997794\n",
            "Método acierto y error con red de var:   media = 0.6312333333333334  varianza = 8.744555555555573e-05  tiempo = 0.004857589266665249\n"
          ]
        }
      ]
    },
    {
      "cell_type": "markdown",
      "source": [
        "Y utilizando la misma formula que anteriormente utilizamos para la reduccion de la varianza en el Metodo Acierto y Error.\n",
        "\n",
        "Calculamos la reducción\n",
        "\n",
        "$\n",
        "\\text{Reduccion}=\\!\\left(\\frac{Varianza Original - Varianza Nueva)}{Varianza Original}\\right) * 100\n",
        "$"
      ],
      "metadata": {
        "id": "zfJTyM9n0dqD"
      }
    },
    {
      "cell_type": "code",
      "source": [
        "reduccion=((var1-var)/var1)*100\n",
        "\n",
        "reduccion"
      ],
      "metadata": {
        "colab": {
          "base_uri": "https://localhost:8080/"
        },
        "id": "fsn0P0tk0npq",
        "outputId": "eb8f97ae-6db8-43a3-c885-ee4fd72369f9"
      },
      "execution_count": 29,
      "outputs": [
        {
          "output_type": "execute_result",
          "data": {
            "text/plain": [
              "np.float64(96.38489196001045)"
            ]
          },
          "metadata": {},
          "execution_count": 29
        }
      ]
    }
  ]
}