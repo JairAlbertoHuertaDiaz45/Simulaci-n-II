{
  "nbformat": 4,
  "nbformat_minor": 0,
  "metadata": {
    "colab": {
      "provenance": [],
      "authorship_tag": "ABX9TyO5JRGw7d1GxYvDD43AMPtJ",
      "include_colab_link": true
    },
    "kernelspec": {
      "name": "python3",
      "display_name": "Python 3"
    },
    "language_info": {
      "name": "python"
    }
  },
  "cells": [
    {
      "cell_type": "markdown",
      "metadata": {
        "id": "view-in-github",
        "colab_type": "text"
      },
      "source": [
        "<a href=\"https://colab.research.google.com/github/JairAlbertoHuertaDiaz45/Simulaci-n-II/blob/main/Comparaci%C3%B3n_MC.ipynb\" target=\"_parent\"><img src=\"https://colab.research.google.com/assets/colab-badge.svg\" alt=\"Open In Colab\"/></a>"
      ]
    },
    {
      "cell_type": "markdown",
      "source": [
        "**Huerta Díaz Jair Alberto**\n",
        "\n",
        "Método de comparación Monte Carlo Acierto y Error y Crudo\n",
        "\n"
      ],
      "metadata": {
        "id": "Wki6KUaOTe9v"
      }
    },
    {
      "cell_type": "code",
      "execution_count": 2,
      "metadata": {
        "colab": {
          "base_uri": "https://localhost:8080/"
        },
        "id": "V6JlEigqwBcc",
        "outputId": "dda6bb21-417f-415f-f0f3-0af38f425fd6"
      },
      "outputs": [
        {
          "output_type": "stream",
          "name": "stdout",
          "text": [
            "Valor real de la integral = 0.43882457311747564\n"
          ]
        }
      ],
      "source": [
        "import numpy as np\n",
        "import time\n",
        "import math\n",
        "import random as rd\n",
        "def f(x):\n",
        "    return np.arctan(x)\n",
        "valor_real = (1*math.atan(1) - 0.5*math.log(1+1**2)) - (0*math.atan(0) - 0.5*math.log(1+0**2))\n",
        "print(\"Valor real de la integral =\", valor_real)"
      ]
    },
    {
      "cell_type": "markdown",
      "source": [
        "**Método de Monte Carlo Crudo**"
      ],
      "metadata": {
        "id": "bn73obMyU64d"
      }
    },
    {
      "cell_type": "markdown",
      "source": [
        "Calculando el promedio, varianza y el tiempo promedio (datos que se ocuparán más adelante)\n"
      ],
      "metadata": {
        "id": "_yLKkfPGVKB0"
      }
    },
    {
      "cell_type": "code",
      "source": [
        "def montecarlo_crudo(N, repeticiones=100):\n",
        "    estimaciones = []\n",
        "    tiempos = []\n",
        "\n",
        "    for _ in range(repeticiones):\n",
        "        inicio = time.time()\n",
        "        x = np.random.uniform(0,1,N)\n",
        "        fx = f(x)\n",
        "        integral_est = np.mean(fx)\n",
        "        fin = time.time()\n",
        "        estimaciones.append(integral_est)\n",
        "        tiempos.append(fin-inicio)\n",
        "    promedio = np.mean(estimaciones)\n",
        "    varianza = np.var(estimaciones, ddof=1)\n",
        "    desviacion = np.sqrt(varianza)\n",
        "    tiempo_prom = np.mean(tiempos)\n",
        "    return promedio, varianza, desviacion, tiempo_prom"
      ],
      "metadata": {
        "id": "Gg_TXAdxwLu2"
      },
      "execution_count": 8,
      "outputs": []
    },
    {
      "cell_type": "markdown",
      "source": [
        "**Método de Acierto y Error**"
      ],
      "metadata": {
        "id": "bOxv1xi9VG7s"
      }
    },
    {
      "cell_type": "markdown",
      "source": [
        "Calculando el promedio, varianza y el tiempo promedio (datos que se ocuparán más adelante)"
      ],
      "metadata": {
        "id": "QfR30PsYWVG8"
      }
    },
    {
      "cell_type": "code",
      "source": [
        "def montecarlo_acierto_error(N, repeticiones=100):\n",
        "    estimaciones = []\n",
        "    tiempos = []\n",
        "    fmax = f(1)  # máximo de arctan(x) en [0,1]\n",
        "    for _ in range(repeticiones):\n",
        "        inicio = time.time()\n",
        "        x = np.random.uniform(0,1,N)\n",
        "        y = np.random.uniform(0,fmax,N)\n",
        "        aciertos = np.sum(y <= f(x))\n",
        "        integral_est = (aciertos/N) * (1 * fmax)\n",
        "        fin = time.time()\n",
        "        estimaciones.append(integral_est)\n",
        "        tiempos.append(fin-inicio)\n",
        "    promedio = np.mean(estimaciones)\n",
        "    varianza = np.var(estimaciones, ddof=1)\n",
        "    desviacion = np.sqrt(varianza)\n",
        "    tiempo_prom = np.mean(tiempos)\n",
        "    return promedio, varianza, desviacion, tiempo_prom"
      ],
      "metadata": {
        "id": "KJFsTSsawQoO"
      },
      "execution_count": 9,
      "outputs": []
    },
    {
      "cell_type": "markdown",
      "source": [
        "Realizamos la comparación de ambos métodos para estimar la integral.\n",
        "Con un tamaño de muestra **N**"
      ],
      "metadata": {
        "id": "NdBnvX_yXqc6"
      }
    },
    {
      "cell_type": "code",
      "source": [
        "# Número de muestras\n",
        "N = 1000\n",
        "R = 200 #repeticiones\n",
        "# Monte Carlo Crudo\n",
        "prom_crudo, var_crudo, std_crudo, t_crudo = montecarlo_crudo(N, R)\n",
        "# Monte Carlo Acierto–Error\n",
        "prom_ae, var_ae, std_ae, t_ae = montecarlo_acierto_error(N, R)\n",
        "\n",
        "# Resultados\n",
        "print(\"Método Crudo:\")\n",
        "print(f\"Estimación promedio = {prom_crudo}\")\n",
        "print(f\"Varianza = {var_crudo}\")\n",
        "print(f\"Desviación estándar = {std_crudo}\")\n",
        "print(f\"Tiempo promedio = {t_crudo} seg\")\n",
        "\n",
        "print(\"\\nMétodo Acierto–Error:\")\n",
        "print(f\"Estimación promedio = {prom_ae}\")\n",
        "print(f\"Varianza = {var_ae}\")\n",
        "print(f\"Desviación estándar = {std_ae}\")\n",
        "print(f\"Tiempo promedio = {t_ae} seg\")"
      ],
      "metadata": {
        "colab": {
          "base_uri": "https://localhost:8080/"
        },
        "id": "1veyER2TwS0m",
        "outputId": "745ca738-e5bb-4625-8e8a-fab2abb7e3f2"
      },
      "execution_count": 12,
      "outputs": [
        {
          "output_type": "stream",
          "name": "stdout",
          "text": [
            "Método Crudo:\n",
            "Estimación promedio = 0.4385987374913822\n",
            "Varianza = 5.4947608220824977e-05\n",
            "Desviación estándar = 0.007412665392476918\n",
            "Tiempo promedio = 4.8195123672485354e-05 seg\n",
            "\n",
            "Método Acierto–Error:\n",
            "Estimación promedio = 0.43846423267989354\n",
            "Varianza = 0.00013874921728360788\n",
            "Desviación estándar = 0.011779185764882388\n",
            "Tiempo promedio = 4.351615905761719e-05 seg\n"
          ]
        }
      ]
    },
    {
      "cell_type": "markdown",
      "source": [
        "**Cálculo de Eficiencia**"
      ],
      "metadata": {
        "id": "5R0EawsdZIch"
      }
    },
    {
      "cell_type": "markdown",
      "source": [
        "$$\n",
        "E = \\frac{t_{\\text{crudo}} \\cdot \\mathrm{Var}(\\theta_{\\text{crudo}})}{t_{\\text{ae}} \\cdot \\mathrm{Var}(\\theta_{\\text{ae}})}\n",
        "$$"
      ],
      "metadata": {
        "id": "_ddoth2EZ-bw"
      }
    },
    {
      "cell_type": "code",
      "source": [
        "E = (t_crudo * var_crudo) / (t_ae * var_ae)\n",
        "\n",
        "print(\"\\n====== EFICIENCIA ======\")\n",
        "print(f\"Eficiencia del método Acierto–Error respecto al Crudo = {E}\")"
      ],
      "metadata": {
        "colab": {
          "base_uri": "https://localhost:8080/"
        },
        "id": "wsCjVmq3wYVe",
        "outputId": "6962cbb8-23e9-4283-f233-a434416603d2"
      },
      "execution_count": 13,
      "outputs": [
        {
          "output_type": "stream",
          "name": "stdout",
          "text": [
            "\n",
            "====== EFICIENCIA ======\n",
            "Eficiencia del método Acierto–Error respecto al Crudo = 0.4386021888997325\n"
          ]
        }
      ]
    }
  ]
}